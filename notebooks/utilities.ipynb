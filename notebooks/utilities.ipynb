{
 "cells": [
  {
   "cell_type": "code",
   "execution_count": 1,
   "metadata": {},
   "outputs": [],
   "source": [
    "from typing import Dict\n",
    "import os, glob\n",
    "\n",
    "import numpy as np\n",
    "import pyvista as pv\n",
    "import pymeshfix\n",
    "\n",
    "from sire.reconstruct.mesh_merger import MeshSDFMerger"
   ]
  },
  {
   "cell_type": "code",
   "execution_count": null,
   "metadata": {},
   "outputs": [],
   "source": [
    "def euler_characteristic(poly: pv.PolyData):\n",
    "    return poly.n_points - poly.extract_all_edges().n_lines + poly.n_faces_strict"
   ]
  },
  {
   "cell_type": "markdown",
   "metadata": {},
   "source": [
    "### Scrapping contours utility\n",
    "\n",
    "Sometimes we want to scrap last/first few contours tracked, it can be done with this utility."
   ]
  },
  {
   "cell_type": "code",
   "execution_count": null,
   "metadata": {},
   "outputs": [],
   "source": [
    "def scrap_contours(poly, n_contours, num_points=128, front=True):\n",
    "    if front:\n",
    "        points = poly.points.reshape(-1, 128, 3)[n_contours:]\n",
    "    else:\n",
    "        points = poly.points.reshape(-1, 128, 3)[:-n_contours]\n",
    "\n",
    "    contour_lines = np.array([[i, (i + 1) % num_points] for i in range(num_points)])\n",
    "    all_contour_lines = np.concatenate([contour_lines + i * num_points for i in range(len(points))])\n",
    "    flat_lines = np.c_[2 * np.ones(len(all_contour_lines))[:, None], all_contour_lines].flatten().astype(int)\n",
    "\n",
    "    return pv.PolyData(points.reshape(-1, 3), lines=flat_lines)"
   ]
  },
  {
   "cell_type": "code",
   "execution_count": null,
   "metadata": {},
   "outputs": [],
   "source": [
    "root_dir = \"\"\n",
    "sample = \"\"\n",
    "filename = \"contour_iliac_left.vtp\"\n",
    "\n",
    "poly = pv.PolyData(os.path.join(root_dir, sample, \"contour/lumen\", filename))\n",
    "scrap_contours(poly, 12, front=False).plot()"
   ]
  },
  {
   "cell_type": "markdown",
   "metadata": {},
   "source": [
    "### Mesh merging utility\n",
    "Once all the branches are tracked and meshed we might want blend them together into one mesh, it can be done with this utility."
   ]
  },
  {
   "cell_type": "code",
   "execution_count": null,
   "metadata": {},
   "outputs": [],
   "source": [
    "def merge_meshes(root_dir: str, configs: Dict[str, str]):\n",
    "    for name, names in configs.items():\n",
    "        paths = [path for filename in names for path in glob.glob(os.path.join(root_dir, sample, f\"*{filename}*\"))]\n",
    "        mesh_list = [pv.read(path) for path in set(paths)]\n",
    "\n",
    "        merger = MeshSDFMerger()\n",
    "        mesh = merger.run(mesh_list, voxel_size=0.15, margin=5, k=0.02, verbose=False)\n",
    "        mesh = mesh.fill_holes(40)\n",
    "\n",
    "        euler = euler_characteristic(mesh)\n",
    "\n",
    "        if euler != 2:\n",
    "            mfix = pymeshfix.MeshFix(mesh)\n",
    "            mfix.repair()\n",
    "            mesh = mfix.mesh\n",
    "\n",
    "        euler = euler_characteristic(mesh)\n",
    "\n",
    "        if euler == 2:\n",
    "            os.makedirs(os.path.join(\"merged\", sample), exist_ok=True)\n",
    "            mesh.save(f\"merges/{sample}/{name}.vtp\")\n",
    "        else:\n",
    "            print(f\"{sample}/{name}:\", euler)"
   ]
  },
  {
   "cell_type": "code",
   "execution_count": null,
   "metadata": {},
   "outputs": [],
   "source": [
    "root_dir = \"\"\n",
    "configs = {\"AAA-full\": [\"full\", \"renal\", \"iliac\"]}\n",
    "\n",
    "merge_meshes(root_dir, configs)"
   ]
  },
  {
   "cell_type": "markdown",
   "metadata": {},
   "source": [
    "### Centerline clipping utility\n",
    "\n",
    "If the branches were pruned for reconstruction we might want to clip the centerlines as well, it can be done with this utility."
   ]
  },
  {
   "cell_type": "code",
   "execution_count": null,
   "metadata": {},
   "outputs": [],
   "source": [
    "def clip_centerline(mesh_file: str, centerline_dir: str, output_dir: str):\n",
    "    samplename = mesh_file.split(\"/\")[-2]\n",
    "    mesh = pv.read(mesh_file)\n",
    "\n",
    "    os.makedirs(os.path.join(output_dir, samplename), exist_ok=True)\n",
    "\n",
    "    for centerline_file in glob.glob(f\"{centerline_dir}/*.vtp\"):\n",
    "        filename = os.path.basename(centerline_file)\n",
    "        centerline = pv.read(centerline_file)\n",
    "\n",
    "        enclosed_points = centerline.select_enclosed_points(mesh)[\"SelectedPoints\"]\n",
    "        clipped_points = centerline.points[enclosed_points.astype(bool)]\n",
    "        clipped_lines = np.array([(2, i, i + 1) for i in range(len(clipped_points) - 1)]).flatten()\n",
    "        clipped_centerline = pv.PolyData(clipped_points, lines=clipped_lines)\n",
    "\n",
    "        clipped_centerline.save(os.path.join(output_dir, samplename, filename))"
   ]
  },
  {
   "cell_type": "code",
   "execution_count": null,
   "metadata": {},
   "outputs": [],
   "source": [
    "filename = \"\"\n",
    "centerline_dir = \"centerlines\"\n",
    "mesh_dir = \"meshes\"\n",
    "output_dir = \"centerlines-clipped\"\n",
    "\n",
    "clip_centerline(\n",
    "    os.path.join(root_dir, mesh_dir, filename, \"full.vtp\"),\n",
    "    os.path.join(root_dir, centerline_dir, filename),\n",
    "    os.path.join(root_dir, output_dir)\n",
    ")"
   ]
  }
 ],
 "metadata": {
  "kernelspec": {
   "display_name": "sire",
   "language": "python",
   "name": "python3"
  },
  "language_info": {
   "codemirror_mode": {
    "name": "ipython",
    "version": 3
   },
   "file_extension": ".py",
   "mimetype": "text/x-python",
   "name": "python",
   "nbconvert_exporter": "python",
   "pygments_lexer": "ipython3",
   "version": "3.11.7"
  }
 },
 "nbformat": 4,
 "nbformat_minor": 2
}
